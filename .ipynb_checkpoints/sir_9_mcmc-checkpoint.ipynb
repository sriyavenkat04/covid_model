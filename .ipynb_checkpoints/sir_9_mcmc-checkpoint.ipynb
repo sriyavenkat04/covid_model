{
 "cells": [
  {
   "cell_type": "code",
   "execution_count": 55,
   "metadata": {},
   "outputs": [],
   "source": [
    "import numpy as np\n",
    "\n",
    "\n",
    "N = 10600000\n",
    "# cases = np.genfromtxt(\"cases.csv\", delimiter=\",\")[:-1]\n",
    "# cases = np.hstack((0,cases))\n",
    "# cases = (cases[1:] - cases[:-1])\n",
    "\n",
    "def sir9_rhs(t, y, params):\n",
    "    (\n",
    "        beta,\n",
    "        c,\n",
    "        theta,\n",
    "        alpha,\n",
    "        epsilon,\n",
    "        gamma1,\n",
    "        mu,\n",
    "        kappa,\n",
    "        gamma2,\n",
    "        gamma3,\n",
    "        rho,\n",
    "        gamma4,\n",
    "        muH,\n",
    "    ) = params\n",
    "    lamb = beta * (y[2] + c * y[3]) / (y[0] + y[1] + y[2] + y[3] + y[6] + y[7])\n",
    "    dydt = np.zeros(9)\n",
    "    dydt[0] = -(lamb + theta) * y[0]\n",
    "    dydt[1] = lamb * y[0] - alpha * y[1]\n",
    "    dydt[2] = alpha * epsilon * y[1] - gamma1 * y[2]\n",
    "    dydt[3] = alpha * (1 - epsilon) * y[1] - (mu + kappa + gamma2) * y[3]\n",
    "    dydt[4] = kappa * y[3] - (gamma3 + rho + mu) * y[4]\n",
    "    dydt[5] = rho * y[4] - (muH + gamma4) * y[5]\n",
    "    dydt[6] = theta * y[0]\n",
    "    dydt[7] = gamma1 * y[2] + gamma2 * y[3] + gamma3 * y[4] + gamma4 * y[5]\n",
    "    dydt[8] = mu * (y[3] + y[4]) + muH * y[5]\n",
    "    return dydt\n",
    "\n",
    "\n",
    "init_params = np.array([\n",
    "    0.5, .9, 0, 0.167, 0.3, 0.1, 1e-5, 0.25, 0.10, 0.10, 0.22, 0.09,\n",
    "    0.06\n",
    "])\n",
    "\n",
    "sir9 = lambda t, y: sir9_rhs(t, y, init_params)\n",
    "\n",
    "\n",
    "E0 = 1000 # unsure\n",
    "A0 = 0#7000 # unsure\n",
    "I0 = 0#13000\n",
    "Q0 = 0#20000\n",
    "H0 = 0#int(0.0001*N)\n",
    "V0 = int(.42*N)\n",
    "R0 = 0#2395600\n",
    "D0 = 0\n",
    "S0 = N - (E0 + A0 + I0 + Q0 + H0 + V0 + R0 + D0)\n",
    "\n",
    "y0 = np.array([S0, E0, A0, I0, Q0, H0, V0, R0, D0])\n",
    "\n",
    "\n",
    "\n",
    "t_eval = np.arange(0, 497, 7)\n",
    "t_span = (0, 497)\n",
    "from scipy.integrate import solve_ivp\n",
    "\n",
    "sol = solve_ivp(sir9, t_span, y0, t_eval=t_eval)"
   ]
  },
  {
   "cell_type": "code",
   "execution_count": 54,
   "metadata": {},
   "outputs": [
    {
     "data": {
      "application/vnd.jupyter.widget-view+json": {
       "model_id": "601327b585c94aa9a28443662bd8b9b1",
       "version_major": 2,
       "version_minor": 0
      },
      "text/plain": [
       "Canvas(toolbar=Toolbar(toolitems=[('Home', 'Reset original view', 'home', 'home'), ('Back', 'Back to previous …"
      ]
     },
     "metadata": {},
     "output_type": "display_data"
    }
   ],
   "source": [
    "%matplotlib widget\n",
    "from matplotlib import pyplot as plt\n",
    "\n",
    "plt.figure()\n",
    "res = sol.y[4]#np.sum(sol.y[2:6],axis=0) + sol.y[7]\n",
    "plt.plot(sol.t, res)\n",
    "plt.legend([\"S\", \"E\", \"A\", \"I\", \"Q\", \"H\", \"V\", \"R\", \"D\"])\n",
    "plt.show()\n"
   ]
  },
  {
   "cell_type": "code",
   "execution_count": 36,
   "metadata": {},
   "outputs": [],
   "source": [
    "#sensitivity\n",
    "\n",
    "init_p = np.array([\n",
    "    0.5, .9, 0.002, 0.167, 0.3, 0.1, 1e-5, 0.25, 0.10, 0.10, 0.22, 0.09,\n",
    "    0.06\n",
    "])\n",
    "opt_p = np.array([8.57830675e-01, 4.47173083e-01, 3.15724895e-32, 7.09419590e-01,\\\n",
    "       8.01151835e-02, 1.97759621e-02, 1.16078318e-01, 9.98717740e-01,\\\n",
    "       2.71493742e-05, 3.30629274e-11, 8.74861983e-05, 5.63212069e-01,\\\n",
    "       8.13896292e-01])\n",
    "\n",
    "h = 1e-6\n",
    "\n",
    "sens_mat = np.zeros((len(init_p), len(sol.t)))\n",
    "for i in range(len(init_p)):\n",
    "    e_i = np.eye(len(init_p))[i]\n",
    "    sir1 = lambda t, y: sir9_rhs(t, y, opt_p)\n",
    "    sir2 = lambda t, y: sir9_rhs(t, y, opt_p+h*e_i)\n",
    "    sol1 = solve_ivp(sir1, t_span, y0, t_eval=t_eval)\n",
    "    sol2 = solve_ivp(sir2, t_span, y0, t_eval=t_eval)\n",
    "    sens_mat[i] = (sol2.y[4]-sol1.y[4])/h\n"
   ]
  },
  {
   "cell_type": "code",
   "execution_count": 37,
   "metadata": {},
   "outputs": [
    {
     "data": {
      "application/vnd.jupyter.widget-view+json": {
       "model_id": "4d1239236919437298af9d53807c248a",
       "version_major": 2,
       "version_minor": 0
      },
      "text/plain": [
       "Canvas(toolbar=Toolbar(toolitems=[('Home', 'Reset original view', 'home', 'home'), ('Back', 'Back to previous …"
      ]
     },
     "metadata": {},
     "output_type": "display_data"
    },
    {
     "data": {
      "application/vnd.jupyter.widget-view+json": {
       "model_id": "a4c5ee3e33c1441ca2250ef777732283",
       "version_major": 2,
       "version_minor": 0
      },
      "text/plain": [
       "Canvas(toolbar=Toolbar(toolitems=[('Home', 'Reset original view', 'home', 'home'), ('Back', 'Back to previous …"
      ]
     },
     "metadata": {},
     "output_type": "display_data"
    }
   ],
   "source": [
    "plt.close('all')\n",
    "fig, ax = plt.subplots(3,4,sharex=True)\n",
    "for i in range(12):\n",
    "    ax[int(i/4),int(i%4)].plot(sol.t, sens_mat[i])\n",
    "plt.figure()\n",
    "plt.plot(sol.t, sens_mat[-1]/N)\n",
    "plt.show()"
   ]
  },
  {
   "cell_type": "code",
   "execution_count": 38,
   "metadata": {},
   "outputs": [
    {
     "data": {
      "application/vnd.jupyter.widget-view+json": {
       "model_id": "dcdc68a416214f07977eb10f3c344ff0",
       "version_major": 2,
       "version_minor": 0
      },
      "text/plain": [
       "Canvas(toolbar=Toolbar(toolitems=[('Home', 'Reset original view', 'home', 'home'), ('Back', 'Back to previous …"
      ]
     },
     "metadata": {},
     "output_type": "display_data"
    }
   ],
   "source": [
    "sens_max = np.array([np.max(np.abs(row/N)) for row in sens_mat])\n",
    "plt.figure()\n",
    "plt.semilogy(sens_max, 'o')\n",
    "plt.show()"
   ]
  },
  {
   "cell_type": "code",
   "execution_count": 40,
   "metadata": {},
   "outputs": [],
   "source": [
    "def obj(params):\n",
    "#     mod_params = init_params\n",
    "#     mod_params[0] = params[0]\n",
    "#     mod_params[7] = params[1]\n",
    "#     e0 =  params[0]\n",
    "#     a0 = params[1]\n",
    "#     s0 = N - (e0 + a0 + I0 + Q0 + H0 + V0 + R0 + D0)\n",
    "#     y0 = np.array([s0, e0, a0, I0, Q0, H0, V0, R0, D0])\n",
    "#     p = params[2:]\n",
    "    p = init_params\n",
    "    p[0] = params[0]\n",
    "    p[1] = params[1]\n",
    "    p[2] = params[2]\n",
    "    p[3] = params[3]\n",
    "    p[4] = params[4]\n",
    "    p[5] = params[5]\n",
    "    p[6] = params[6]\n",
    "    p[7] = params[7]\n",
    "    p[8] = params[8]\n",
    "    p[9] = params[9]\n",
    "    p[10] = params[10]\n",
    "    p[11] = params[11]\n",
    "    p[12] = params[12]\n",
    "    sir_func = lambda t, y: sir9_rhs(t,y,params)\n",
    "    sol = solve_ivp(sir9, t_span, y0, t_eval=t_eval)\n",
    "    res = sol.y[4]#np.sum(sol.y[2:6],axis=0)+sol.y[7]\n",
    "#     if len(res) < 71:\n",
    "#         print(res, sol)\n",
    "    return cases - res\n",
    "\n",
    "from scipy.optimize import least_squares\n",
    "inits = np.random.rand(13)#np.array([8.93569359e-01, 4.95348727e-01, 4.73774257e-19, 5.29887968e-01,\\\n",
    "#        7.48640151e-02, 1.94709299e-02, 1.15875881e-01, 9.83096399e-01,\\\n",
    "#        2.36108066e-03, 2.85829932e-06, 5.06632136e-04, 3.35505239e-01,\\\n",
    "#        7.83574030e-01])#np.random.rand(13)\n",
    "# inits[0] = E0\n",
    "# inits[1] = A0\n",
    "# inits[2:] = init_params\n",
    "bnds = [(0,)*13,(1,)*13]\n",
    "res = least_squares(obj, inits,bounds=bnds)\n",
    "# final_params = init_params\n",
    "# final_params[0] = res.x[0]\n",
    "# final_params[7] = res.x[1]\n",
    "p = init_params\n",
    "p[0] = res.x[0]\n",
    "p[1] = res.x[1]\n",
    "p[2] = res.x[2]\n",
    "p[3] = res.x[3]\n",
    "p[4] = res.x[4]\n",
    "p[5] = res.x[5]\n",
    "p[6] = res.x[6]\n",
    "p[7] = res.x[7]\n",
    "p[8] = res.x[8]\n",
    "p[9] = res.x[9]\n",
    "p[10] = res.x[10]\n",
    "p[11] = res.x[11]\n",
    "p[12] = res.x[12]\n",
    "sir_func = lambda t, y: sir9_rhs(t,y,p)\n",
    "# e0 =  res.x[0]\n",
    "# a0 = res.x[1]\n",
    "# s0 = N - (e0 + a0 + I0 + Q0 + H0 + V0 + R0 + D0)\n",
    "# y0 = np.array([s0, e0, a0, I0, Q0, H0, V0, R0, D0])\n",
    "sol = solve_ivp(sir_func, t_span, y0, t_eval=t_eval)"
   ]
  },
  {
   "cell_type": "code",
   "execution_count": 41,
   "metadata": {},
   "outputs": [
    {
     "data": {
      "text/plain": [
       "array([9.99991647e-01, 2.82068824e-01, 2.13639513e-29, 9.04656146e-01,\n",
       "       7.49828630e-02, 2.19386506e-02, 1.16415747e-01, 9.99858240e-01,\n",
       "       3.73825486e-11, 6.52050861e-12, 9.96276819e-06, 8.26360828e-01,\n",
       "       8.82928397e-01])"
      ]
     },
     "execution_count": 41,
     "metadata": {},
     "output_type": "execute_result"
    }
   ],
   "source": [
    "p"
   ]
  },
  {
   "cell_type": "code",
   "execution_count": 8,
   "metadata": {},
   "outputs": [],
   "source": [
    "q_opt = res.x"
   ]
  },
  {
   "cell_type": "code",
   "execution_count": 42,
   "metadata": {},
   "outputs": [
    {
     "data": {
      "application/vnd.jupyter.widget-view+json": {
       "model_id": "8c88bc640bfd45f4a18a152276842043",
       "version_major": 2,
       "version_minor": 0
      },
      "text/plain": [
       "Canvas(toolbar=Toolbar(toolitems=[('Home', 'Reset original view', 'home', 'home'), ('Back', 'Back to previous …"
      ]
     },
     "metadata": {},
     "output_type": "display_data"
    }
   ],
   "source": [
    "%matplotlib widget\n",
    "from matplotlib import pyplot as plt\n",
    "\n",
    "plt.figure()\n",
    "# res = sol.y[4]#np.sum(sol.y[2:6],axis=0) + sol.y[7]\n",
    "\n",
    "plt.plot(sol.t, sol.y[4])\n",
    "# plt.legend([\"S\", \"E\", \"A\", \"I\", \"Q\", \"H\", \"V\", \"R\", \"D\"])\n",
    "# plt.show()\n",
    "# plt.figure()\n",
    "plt.plot(sol.t, cases, 'bo')\n",
    "plt.show()"
   ]
  },
  {
   "cell_type": "code",
   "execution_count": 10,
   "metadata": {},
   "outputs": [],
   "source": [
    "from pymcmcstat.MCMC import MCMC\n",
    "from pymcmcstat.ParallelMCMC import ParallelMCMC\n",
    "from mpl_toolkits.mplot3d import Axes3D\n",
    "from matplotlib import cm\n",
    "import seaborn as sns\n",
    "import mcmcplot.mcmatplot as mcmpl\n",
    "import mcmcplot.mcseaborn as mcsbn\n",
    "import scipy.io as sio\n"
   ]
  },
  {
   "cell_type": "code",
   "execution_count": 14,
   "metadata": {},
   "outputs": [],
   "source": [
    "mcstat = MCMC()\n",
    "# beta,\n",
    "#         c,\n",
    "#         theta,\n",
    "#         alpha,\n",
    "#         epsilon,\n",
    "#         gamma1,\n",
    "#         mu,\n",
    "#         kappa,\n",
    "#         gamma2,\n",
    "#         gamma3,\n",
    "#         rho,\n",
    "#         gamma4,\n",
    "#         muH,\n",
    "#add dataset\n",
    "mcstat.data.add_data_set(\n",
    "  x = sol.t,\n",
    "  y = cases   \n",
    ")\n",
    "\n",
    "#add parameters\n",
    "mcstat.parameters.add_model_parameter(\n",
    "    name = '$\\\\beta$',\n",
    "    theta0 = q_opt[0],\n",
    "    minimum = 0,\n",
    "    maximum = 1,\n",
    ")\n",
    "\n",
    "mcstat.parameters.add_model_parameter(\n",
    "    name = '$c$',\n",
    "    theta0 = q_opt[1],\n",
    "    minimum = 0,\n",
    "    maximum = 1,\n",
    ")\n",
    "\n",
    "mcstat.parameters.add_model_parameter(\n",
    "    name = '$\\\\theta$',\n",
    "    theta0 = q_opt[2],\n",
    "    minimum = 0,\n",
    "    maximum = 1,\n",
    ")\n",
    "mcstat.parameters.add_model_parameter(\n",
    "    name = '$\\\\alpha$',\n",
    "    theta0 = q_opt[3],\n",
    "    minimum = 0,\n",
    "    maximum = 1,\n",
    ")\n",
    "mcstat.parameters.add_model_parameter(\n",
    "    name = '$\\epsilon$',\n",
    "    theta0 = q_opt[4],\n",
    "    minimum = 0,\n",
    "    maximum = 1,\n",
    ")\n",
    "mcstat.parameters.add_model_parameter(\n",
    "    name = '$\\gamma_1$',\n",
    "    theta0 = q_opt[5],\n",
    "    minimum = 0,\n",
    "    maximum = 1,\n",
    ")\n",
    "mcstat.parameters.add_model_parameter(\n",
    "    name = '$\\mu$',\n",
    "    theta0 = q_opt[6],\n",
    "    minimum = 0,\n",
    "    maximum = 1,\n",
    ")\n",
    "mcstat.parameters.add_model_parameter(\n",
    "    name = '$\\kappa$',\n",
    "    theta0 = q_opt[7],\n",
    "    minimum = 0,\n",
    "    maximum = 1,\n",
    ")\n",
    "mcstat.parameters.add_model_parameter(\n",
    "    name = '$\\gamma_2$',\n",
    "    theta0 = q_opt[8],\n",
    "    minimum = 0,\n",
    "    maximum = 1,\n",
    ")\n",
    "mcstat.parameters.add_model_parameter(\n",
    "    name = '$\\gamma_3$',\n",
    "    theta0 = q_opt[9],\n",
    "    minimum = 0,\n",
    "    maximum = 1,\n",
    ")\n",
    "mcstat.parameters.add_model_parameter(\n",
    "    name = '$\\\\rho$',\n",
    "    theta0 = q_opt[10],\n",
    "    minimum = 0,\n",
    "    maximum = 1,\n",
    ")\n",
    "mcstat.parameters.add_model_parameter(\n",
    "    name = '$\\gamma_4$',\n",
    "    theta0 = q_opt[11],\n",
    "    minimum = 0,\n",
    "    maximum = 1,\n",
    ")\n",
    "mcstat.parameters.add_model_parameter(\n",
    "    name = '$\\mu_H$',\n",
    "    theta0 = q_opt[12],\n",
    "    minimum = 0,\n",
    "    maximum = 1,\n",
    ")\n",
    "# #simulation options\n",
    "\n",
    "mcstat.simulation_options.define_simulation_options(\n",
    "    nsimu=int(1e5),\n",
    "    updatesigma=True,\n",
    "    method='dram',\n",
    "    adaptint=100,\n",
    "    verbosity=1,\n",
    "    waitbar=1,\n",
    "    save_to_json=False,\n",
    "    save_to_bin=False,\n",
    ")\n",
    "\n",
    "\n",
    "# #model settings\n",
    "def ssfun(p, data):\n",
    "    res = obj(p)\n",
    "    return res.dot(res)\n",
    "\n",
    "mcstat.model_settings.define_model_settings(\n",
    "    sos_function=ssfun,\n",
    "    N0 = 1,\n",
    "    N = len(sol.t),\n",
    ")"
   ]
  },
  {
   "cell_type": "code",
   "execution_count": 15,
   "metadata": {},
   "outputs": [
    {
     "name": "stdout",
     "output_type": "stream",
     "text": [
      "\n",
      "Sampling these parameters:\n",
      "      name      start [      min,       max] N(       mu,   sigma^2)\n",
      "   $\\beta$:      0.68 [ 0.00e+00,      1.00] N( 0.00e+00,      inf)\n",
      "       $c$:      0.62 [ 0.00e+00,      1.00] N( 0.00e+00,      inf)\n",
      "  $\\theta$:  2.14e-21 [ 0.00e+00,      1.00] N( 0.00e+00,      inf)\n",
      "  $\\alpha$:      0.35 [ 0.00e+00,      1.00] N( 0.00e+00,      inf)\n",
      "$\\epsilon$:      0.10 [ 0.00e+00,      1.00] N( 0.00e+00,      inf)\n",
      "$\\gamma_1$:      0.02 [ 0.00e+00,      1.00] N( 0.00e+00,      inf)\n",
      "     $\\mu$:      0.02 [ 0.00e+00,      1.00] N( 0.00e+00,      inf)\n",
      "  $\\kappa$:      0.95 [ 0.00e+00,      1.00] N( 0.00e+00,      inf)\n",
      "$\\gamma_2$:      0.03 [ 0.00e+00,      1.00] N( 0.00e+00,      inf)\n",
      "$\\gamma_3$:  2.82e-05 [ 0.00e+00,      1.00] N( 0.00e+00,      inf)\n",
      "    $\\rho$:      0.10 [ 0.00e+00,      1.00] N( 0.00e+00,      inf)\n",
      "$\\gamma_4$:  5.00e-03 [ 0.00e+00,      1.00] N( 0.00e+00,      inf)\n",
      "   $\\mu_H$:      0.05 [ 0.00e+00,      1.00] N( 0.00e+00,      inf)\n",
      " [-----------------100%-----------------] 100000 of 100000 complete in 4033.3 sec\n",
      "\n",
      "------------------------------\n",
      "      name:      mean       std    MC_err       tau    geweke\n",
      "   $\\beta$:      0.60      0.19      0.02   1544.38      0.85\n",
      "       $c$:      0.38      0.26      0.03   1183.10      0.91\n",
      "  $\\theta$:  9.95e-20  1.25e-19  2.42e-20   8782.88      0.01\n",
      "  $\\alpha$:      0.48      0.25      0.02   1289.31      0.58\n",
      "$\\epsilon$:      0.15      0.06  8.02e-03   2281.66      0.73\n",
      "$\\gamma_1$:      0.02      0.01  1.31e-03   1281.96      0.97\n",
      "     $\\mu$:      0.05      0.03  2.46e-03    973.09      0.96\n",
      "  $\\kappa$:      0.74      0.17      0.02    712.16      0.97\n",
      "$\\gamma_2$:      0.14      0.12  9.51e-03    893.16      0.47\n",
      "$\\gamma_3$:  1.31e-03  1.41e-03  2.77e-04   8911.45      0.02\n",
      "    $\\rho$:      0.04      0.03  2.65e-03   1022.00      0.71\n",
      "$\\gamma_4$:      0.23      0.29      0.06  1.10e+04      0.03\n",
      "   $\\mu_H$:      0.48      0.29      0.03   1013.97      0.21\n",
      "------------------------------\n",
      "==============================\n",
      "Acceptance rate information\n",
      "---------------\n",
      "Results dictionary:\n",
      "Stage 1: 2.54%\n",
      "Stage 2: 19.82%\n",
      "Net    : 22.36% -> 22362/100000\n",
      "---------------\n",
      "Chain provided:\n",
      "Net    : 19.99% -> 17992/90000\n",
      "---------------\n",
      "Note, the net acceptance rate from the results dictionary\n",
      "may be different if you only provided a subset of the chain,\n",
      "e.g., removed the first part for burnin-in.\n",
      "------------------------------\n",
      "Acceptance rate:  22.36%\n",
      "Model Evaluations: 197456\n",
      "Observation Variance: [1.8859634e+09]\n",
      "Intial Covariance: [[ 1.49551289e-02 -4.37332340e-03 -1.86372193e-21  7.21698410e-04\n",
      "  -3.35696209e-03  2.42129254e-04  8.25557563e-05  1.59849253e-03\n",
      "   5.17597215e-04 -2.47635789e-05  1.95061089e-04 -5.11178482e-03\n",
      "   7.33759650e-04]\n",
      " [-4.37332340e-03  3.17523512e-02  1.73404079e-21 -7.07771399e-03\n",
      "  -7.26004538e-04 -2.39686631e-04  4.05967247e-05  1.22277137e-03\n",
      "  -1.05338080e-03  1.20720101e-05  1.90125042e-04  1.64124874e-03\n",
      "  -4.92938571e-04]\n",
      " [-1.86372193e-21  1.73404079e-21  6.49416349e-39 -3.53139849e-21\n",
      "   1.03987366e-21 -2.64156828e-23 -1.40350613e-22  2.81211157e-22\n",
      "   2.11431362e-21  7.04530625e-23 -2.32499025e-22  1.21236876e-20\n",
      "   4.35303197e-21]\n",
      " [ 7.21698410e-04 -7.07771399e-03 -3.53139849e-21  2.67911839e-02\n",
      "  -1.49756895e-03 -2.80530695e-04  3.23128848e-04  1.87532812e-04\n",
      "  -6.35411322e-04 -3.68022371e-05 -1.69197975e-05 -7.29598980e-03\n",
      "   1.28892352e-03]\n",
      " [-3.35696209e-03 -7.26004538e-04  1.03987366e-21 -1.49756895e-03\n",
      "   1.38120755e-03  7.35313567e-05 -5.40516108e-05 -6.08418789e-05\n",
      "   1.79949812e-04  1.31965212e-05 -1.75031437e-04  2.35482628e-03\n",
      "  -4.83469317e-04]\n",
      " [ 2.42129254e-04 -2.39686631e-04 -2.64156828e-23 -2.80530695e-04\n",
      "   7.35313567e-05  4.85690204e-05 -1.05722739e-05  4.44793261e-06\n",
      "  -6.02502409e-05 -2.30967642e-07 -1.94125141e-05 -1.33859268e-04\n",
      "  -1.42764941e-04]\n",
      " [ 8.25557563e-05  4.05967247e-05 -1.40350613e-22  3.23128848e-04\n",
      "  -5.40516108e-05 -1.05722739e-05  2.98408736e-04 -8.60628135e-05\n",
      "  -3.05226375e-04 -1.85992640e-06 -2.81265567e-04  4.02330893e-05\n",
      "  -1.75289964e-04]\n",
      " [ 1.59849253e-03  1.22277137e-03  2.81211157e-22  1.87532812e-04\n",
      "  -6.08418789e-05  4.44793261e-06 -8.60628135e-05  1.35605630e-02\n",
      "   1.87321834e-03  4.37220052e-06  2.76427619e-04  1.39974837e-03\n",
      "   1.09433388e-04]\n",
      " [ 5.17597215e-04 -1.05338080e-03  2.11431362e-21 -6.35411322e-04\n",
      "   1.79949812e-04 -6.02502409e-05 -3.05226375e-04  1.87321834e-03\n",
      "   5.82941666e-03  2.18306513e-05 -2.32219785e-04  2.64988075e-03\n",
      "   5.68378606e-03]\n",
      " [-2.47635789e-05  1.20720101e-05  7.04530625e-23 -3.68022371e-05\n",
      "   1.31965212e-05 -2.30967642e-07 -1.85992640e-06  4.37220052e-06\n",
      "   2.18306513e-05  8.53395158e-07 -2.22904891e-06  1.45712304e-04\n",
      "   6.29033604e-05]\n",
      " [ 1.95061089e-04  1.90125042e-04 -2.32499025e-22 -1.69197975e-05\n",
      "  -1.75031437e-04 -1.94125141e-05 -2.81265567e-04  2.76427619e-04\n",
      "  -2.32219785e-04 -2.22904891e-06  3.83350870e-04 -6.25053560e-04\n",
      "  -2.77218858e-04]\n",
      " [-5.11178482e-03  1.64124874e-03  1.21236876e-20 -7.29598980e-03\n",
      "   2.35482628e-03 -1.33859268e-04  4.02330893e-05  1.39974837e-03\n",
      "   2.64988075e-03  1.45712304e-04 -6.25053560e-04  3.55888615e-02\n",
      "   8.98053348e-03]\n",
      " [ 7.33759650e-04 -4.92938571e-04  4.35303197e-21  1.28892352e-03\n",
      "  -4.83469317e-04 -1.42764941e-04 -1.75289964e-04  1.09433388e-04\n",
      "   5.68378606e-03  6.29033604e-05 -2.77218858e-04  8.98053348e-03\n",
      "   3.94112337e-02]]\n",
      "Final Covariance: [[ 3.37528951e-02 -9.87034795e-03 -4.20631686e-21  1.62883322e-03\n",
      "  -7.57647694e-03  5.46472275e-04  1.86323756e-04  3.60770883e-03\n",
      "   1.16818816e-03 -5.58900218e-05  4.40242042e-04 -1.15370144e-02\n",
      "   1.65605477e-03]\n",
      " [-9.87034795e-03  7.16632925e-02  3.91363372e-21 -1.59740073e-02\n",
      "  -1.63855191e-03 -5.40959411e-04  9.16245523e-05  2.75972705e-03\n",
      "  -2.37742195e-03  2.72458561e-05  4.29101658e-04  3.70420722e-03\n",
      "  -1.11253497e-03]\n",
      " [-4.20631686e-21  3.91363372e-21  1.46569662e-38 -7.97017021e-21\n",
      "   2.34693708e-21 -5.96187285e-23 -3.16763537e-22  6.34677958e-22\n",
      "   4.77188837e-21  1.59008648e-22 -5.24737382e-22  2.73624893e-20\n",
      "   9.82455131e-21]\n",
      " [ 1.62883322e-03 -1.59740073e-02 -7.97017021e-21  6.04662137e-02\n",
      "  -3.37992992e-03 -6.33142194e-04  7.29283858e-04  4.23251138e-04\n",
      "  -1.43408805e-03 -8.30606047e-05 -3.81870430e-05 -1.64666436e-02\n",
      "   2.90902879e-03]\n",
      " [-7.57647694e-03 -1.63855191e-03  2.34693708e-21 -3.37992992e-03\n",
      "   3.11730871e-03  1.65956187e-04 -1.21991483e-04 -1.37316741e-04\n",
      "   4.06136729e-04  2.97838153e-05 -3.95036229e-04  5.31471208e-03\n",
      "  -1.09116339e-03]\n",
      " [ 5.46472275e-04 -5.40959411e-04 -5.96187285e-23 -6.33142194e-04\n",
      "   1.65956187e-04  1.09617581e-04 -2.38610349e-05  1.00387368e-05\n",
      "  -1.35981447e-04 -5.21281136e-07 -4.38129659e-05 -3.02112931e-04\n",
      "  -3.22212540e-04]\n",
      " [ 1.86323756e-04  9.16245523e-05 -3.16763537e-22  7.29283858e-04\n",
      "  -1.21991483e-04 -2.38610349e-05  6.73491938e-04 -1.94238989e-04\n",
      "  -6.88878971e-04 -4.19775055e-06 -6.34800759e-04  9.08038473e-05\n",
      "  -3.95619711e-04]\n",
      " [ 3.60770883e-03  2.75972705e-03  6.34677958e-22  4.23251138e-04\n",
      "  -1.37316741e-04  1.00387368e-05 -1.94238989e-04  3.06054374e-02\n",
      "   4.22774972e-03  9.86781368e-06  6.23881779e-04  3.15915430e-03\n",
      "   2.46985077e-04]\n",
      " [ 1.16818816e-03 -2.37742195e-03  4.77188837e-21 -1.43408805e-03\n",
      "   4.06136729e-04 -1.35981447e-04 -6.88878971e-04  4.22774972e-03\n",
      "   1.31566695e-02  4.92705671e-05 -5.24107154e-04  5.98063363e-03\n",
      "   1.28279894e-02]\n",
      " [-5.58900218e-05  2.72458561e-05  1.59008648e-22 -8.30606047e-05\n",
      "   2.97838153e-05 -5.21281136e-07 -4.19775055e-06  9.86781368e-06\n",
      "   4.92705671e-05  1.92606546e-06 -5.03083955e-06  3.28864575e-04\n",
      "   1.41969390e-04]\n",
      " [ 4.40242042e-04  4.29101658e-04 -5.24737382e-22 -3.81870430e-05\n",
      "  -3.95036229e-04 -4.38129659e-05 -6.34800759e-04  6.23881779e-04\n",
      "  -5.24107154e-04 -5.03083955e-06  8.65201617e-04 -1.41071116e-03\n",
      "  -6.25667562e-04]\n",
      " [-1.15370144e-02  3.70420722e-03  2.73624893e-20 -1.64666436e-02\n",
      "   5.31471208e-03 -3.02112931e-04  9.08038473e-05  3.15915430e-03\n",
      "   5.98063363e-03  3.28864575e-04 -1.41071116e-03  8.03220834e-02\n",
      "   2.02685652e-02]\n",
      " [ 1.65605477e-03 -1.11253497e-03  9.82455131e-21  2.90902879e-03\n",
      "  -1.09116339e-03 -3.22212540e-04 -3.95619711e-04  2.46985077e-04\n",
      "   1.28279894e-02  1.41969390e-04 -6.25667562e-04  2.02685652e-02\n",
      "   8.89489650e-02]]\n"
     ]
    }
   ],
   "source": [
    "# parallel_mcstat = ParallelMCMC()\n",
    "# parallel_mcstat.setup_parallel_simulation(mcstat,num_cores=10)\n",
    "# parallel_mcstat.run_parallel_simulation()\n",
    "mcstat.run_simulation()\n",
    "results = mcstat.simulation_results.results\n",
    "\n",
    "# specify burnin period\n",
    "burnin = int(results['nsimu']/10)\n",
    "# display chain statistics\n",
    "chain = results['chain']\n",
    "s2chain = results['s2chain']\n",
    "sschain = results['sschain']\n",
    "names = results['names']\n",
    "mcstat.chainstats(chain[burnin:,:], results)\n",
    "print('Acceptance rate: {:6.4}%'.format(100*(1 - results['total_rejected'])))\n",
    "print('Model Evaluations: {}'.format(results['nsimu'] - results['iacce'][0] + results['nsimu']))\n",
    "print('Observation Variance: {}'.format(s2chain[-1]))\n",
    "print('Intial Covariance: {}'.format(results['qcov']))\n",
    "print('Final Covariance: {}'.format(results['cov']))"
   ]
  },
  {
   "cell_type": "code",
   "execution_count": null,
   "metadata": {},
   "outputs": [],
   "source": [
    "names"
   ]
  },
  {
   "cell_type": "code",
   "execution_count": null,
   "metadata": {},
   "outputs": [],
   "source": [
    "chain.shape"
   ]
  },
  {
   "cell_type": "code",
   "execution_count": 16,
   "metadata": {},
   "outputs": [
    {
     "data": {
      "application/vnd.jupyter.widget-view+json": {
       "model_id": "8e794a8ab6804f0fa70b1170d6ef2456",
       "version_major": 2,
       "version_minor": 0
      },
      "text/plain": [
       "Canvas(toolbar=Toolbar(toolitems=[('Home', 'Reset original view', 'home', 'home'), ('Back', 'Back to previous …"
      ]
     },
     "metadata": {},
     "output_type": "display_data"
    },
    {
     "data": {
      "application/vnd.jupyter.widget-view+json": {
       "model_id": "fab77e581c694390b9c026be988248e3",
       "version_major": 2,
       "version_minor": 0
      },
      "text/plain": [
       "Canvas(toolbar=Toolbar(toolitems=[('Home', 'Reset original view', 'home', 'home'), ('Back', 'Back to previous …"
      ]
     },
     "metadata": {},
     "output_type": "display_data"
    },
    {
     "data": {
      "application/vnd.jupyter.widget-view+json": {
       "model_id": "f1a1aeb2abac417eb890b01fd1fe8cc9",
       "version_major": 2,
       "version_minor": 0
      },
      "text/plain": [
       "Canvas(toolbar=Toolbar(toolitems=[('Home', 'Reset original view', 'home', 'home'), ('Back', 'Back to previous …"
      ]
     },
     "metadata": {},
     "output_type": "display_data"
    },
    {
     "data": {
      "image/png": "[encoded data removed]",
      "text/plain": [
       "<Figure size 700x500 with 6 Axes>"
      ]
     },
     "execution_count": 16,
     "metadata": {},
     "output_type": "execute_result"
    }
   ],
   "source": [
    "import mcmcplot.mcmatplot as mcmpl\n",
    "\n",
    "num_param = 4\n",
    "sns.set_style('white')\n",
    "mcmpl.plot_density_panel(chain[burnin:,:num_param], names[:num_param]) # last argument turns hist on/off\n",
    "mcmpl.plot_chain_panel(chain[burnin:,:num_param], names[:num_param])\n",
    "mcmpl.plot_pairwise_correlation_panel(chain[burnin:,:num_param], names[:num_param])\n"
   ]
  },
  {
   "cell_type": "code",
   "execution_count": 49,
   "metadata": {},
   "outputs": [
    {
     "name": "stdout",
     "output_type": "stream",
     "text": [
      "Generating credible/prediction intervals:\n",
      "\n",
      " [-----------------100%-----------------] 500 of 500 complete in 29.0 sec\n",
      "Interval generation complete\n",
      "\n"
     ]
    }
   ],
   "source": [
    "import pymcmcstat.settings.DataStructure as DS\n",
    "\n",
    "def predmodelfun(data, p):\n",
    "    sir = lambda t,y: sir9_rhs(t,y,p)\n",
    "    sol = solve_ivp(sir_func, t_span, y0, t_eval=t_eval)\n",
    "    return sol.y[4]\n",
    "preddata = DS.DataStructure()\n",
    "preddata.add_data_set(\n",
    "  x = sol.t,\n",
    "  y = cases\n",
    ")\n",
    "\n",
    "mcstat.PI.setup_prediction_interval_calculation(results = results, data = preddata, modelfunction = predmodelfun)\n",
    "mcstat.PI.generate_prediction_intervals(nsample = 500, calc_pred_int = 'on', waitbar = True)\n",
    "\n"
   ]
  },
  {
   "cell_type": "code",
   "execution_count": 50,
   "metadata": {},
   "outputs": [
    {
     "data": {
      "application/vnd.jupyter.widget-view+json": {
       "model_id": "0537b125a33d42768983f52f5a784791",
       "version_major": 2,
       "version_minor": 0
      },
      "text/plain": [
       "Canvas(toolbar=Toolbar(toolitems=[('Home', 'Reset original view', 'home', 'home'), ('Back', 'Back to previous …"
      ]
     },
     "metadata": {},
     "output_type": "display_data"
    }
   ],
   "source": [
    "fighandle, axhandle = mcstat.PI.plot_prediction_intervals(adddata = False, addlegend=False)\n",
    "for ii in range(len(preddata.xdata)):\n",
    "    axhandle[ii].plot(preddata.xdata[ii], preddata.ydata[ii], 'bo',\n",
    "                      markersize = 3,\n",
    "                      alpha=0.5,\n",
    "                      label = 'data')\n",
    "    axhandle[ii].set_ylabel('$Q(t)$')\n",
    "    axhandle[ii].set_xlabel('Time')\n",
    "    axhandle[ii].set_title('Prediction/Credible Intervals Plot')\n",
    "    axhandle[ii].legend(bbox_to_anchor=(1.05, 1), loc=2, borderaxespad=0.)"
   ]
  }
 ],
 "metadata": {
  "kernelspec": {
   "display_name": "Python 3",
   "language": "python",
   "name": "python3"
  },
  "language_info": {
   "codemirror_mode": {
    "name": "ipython",
    "version": 3
   },
   "file_extension": ".py",
   "mimetype": "text/x-python",
   "name": "python",
   "nbconvert_exporter": "python",
   "pygments_lexer": "ipython3",
   "version": "3.8.6rc1"
  }
 },
 "nbformat": 4,
 "nbformat_minor": 4
}
